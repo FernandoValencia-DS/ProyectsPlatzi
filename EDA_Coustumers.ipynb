{
 "cells": [
  {
   "cell_type": "code",
   "execution_count": 1,
   "id": "05d099c6-16c6-49b7-a69a-82161c960dfd",
   "metadata": {},
   "outputs": [],
   "source": [
    "import numpy as np\n",
    "import pandas as pd \n",
    "import matplotlib.pyplot as plt\n",
    "from matplotlib.dates import DateFormatter\n",
    "import matplotlib.gridspec as gridspec"
   ]
  },
  {
   "cell_type": "markdown",
   "id": "e6fa68fd-c8f5-485b-9b29-f5a8889656c9",
   "metadata": {},
   "source": [
    "# Cargar datos\n",
    "se carga el conjunto de datos extraido de kaggel \"https://www.kaggle.com/datasets/cameronseamons/electronic-sales-sep2023-sep2024/data\""
   ]
  },
  {
   "cell_type": "code",
   "execution_count": 2,
   "id": "7fef9f7c-7022-4488-80ce-5907569ef0a0",
   "metadata": {},
   "outputs": [
    {
     "data": {
      "text/html": [
       "<div>\n",
       "<style scoped>\n",
       "    .dataframe tbody tr th:only-of-type {\n",
       "        vertical-align: middle;\n",
       "    }\n",
       "\n",
       "    .dataframe tbody tr th {\n",
       "        vertical-align: top;\n",
       "    }\n",
       "\n",
       "    .dataframe thead th {\n",
       "        text-align: right;\n",
       "    }\n",
       "</style>\n",
       "<table border=\"1\" class=\"dataframe\">\n",
       "  <thead>\n",
       "    <tr style=\"text-align: right;\">\n",
       "      <th></th>\n",
       "      <th>Customer ID</th>\n",
       "      <th>Age</th>\n",
       "      <th>Gender</th>\n",
       "      <th>Loyalty Member</th>\n",
       "      <th>Product Type</th>\n",
       "      <th>SKU</th>\n",
       "      <th>Rating</th>\n",
       "      <th>Order Status</th>\n",
       "      <th>Payment Method</th>\n",
       "      <th>Total Price</th>\n",
       "      <th>Unit Price</th>\n",
       "      <th>Quantity</th>\n",
       "      <th>Purchase Date</th>\n",
       "      <th>Shipping Type</th>\n",
       "      <th>Add-ons Purchased</th>\n",
       "      <th>Add-on Total</th>\n",
       "    </tr>\n",
       "  </thead>\n",
       "  <tbody>\n",
       "    <tr>\n",
       "      <th>0</th>\n",
       "      <td>1000</td>\n",
       "      <td>53</td>\n",
       "      <td>Male</td>\n",
       "      <td>No</td>\n",
       "      <td>Smartphone</td>\n",
       "      <td>SKU1004</td>\n",
       "      <td>2</td>\n",
       "      <td>Cancelled</td>\n",
       "      <td>Credit Card</td>\n",
       "      <td>5538.33</td>\n",
       "      <td>791.19</td>\n",
       "      <td>7</td>\n",
       "      <td>2024-03-20</td>\n",
       "      <td>Standard</td>\n",
       "      <td>Accessory,Accessory,Accessory</td>\n",
       "      <td>40.21</td>\n",
       "    </tr>\n",
       "    <tr>\n",
       "      <th>1</th>\n",
       "      <td>1000</td>\n",
       "      <td>53</td>\n",
       "      <td>Male</td>\n",
       "      <td>No</td>\n",
       "      <td>Tablet</td>\n",
       "      <td>SKU1002</td>\n",
       "      <td>3</td>\n",
       "      <td>Completed</td>\n",
       "      <td>Paypal</td>\n",
       "      <td>741.09</td>\n",
       "      <td>247.03</td>\n",
       "      <td>3</td>\n",
       "      <td>2024-04-20</td>\n",
       "      <td>Overnight</td>\n",
       "      <td>Impulse Item</td>\n",
       "      <td>26.09</td>\n",
       "    </tr>\n",
       "    <tr>\n",
       "      <th>2</th>\n",
       "      <td>1002</td>\n",
       "      <td>41</td>\n",
       "      <td>Male</td>\n",
       "      <td>No</td>\n",
       "      <td>Laptop</td>\n",
       "      <td>SKU1005</td>\n",
       "      <td>3</td>\n",
       "      <td>Completed</td>\n",
       "      <td>Credit Card</td>\n",
       "      <td>1855.84</td>\n",
       "      <td>463.96</td>\n",
       "      <td>4</td>\n",
       "      <td>2023-10-17</td>\n",
       "      <td>Express</td>\n",
       "      <td>NaN</td>\n",
       "      <td>0.00</td>\n",
       "    </tr>\n",
       "    <tr>\n",
       "      <th>3</th>\n",
       "      <td>1002</td>\n",
       "      <td>41</td>\n",
       "      <td>Male</td>\n",
       "      <td>Yes</td>\n",
       "      <td>Smartphone</td>\n",
       "      <td>SKU1004</td>\n",
       "      <td>2</td>\n",
       "      <td>Completed</td>\n",
       "      <td>Cash</td>\n",
       "      <td>3164.76</td>\n",
       "      <td>791.19</td>\n",
       "      <td>4</td>\n",
       "      <td>2024-08-09</td>\n",
       "      <td>Overnight</td>\n",
       "      <td>Impulse Item,Impulse Item</td>\n",
       "      <td>60.16</td>\n",
       "    </tr>\n",
       "    <tr>\n",
       "      <th>4</th>\n",
       "      <td>1003</td>\n",
       "      <td>75</td>\n",
       "      <td>Male</td>\n",
       "      <td>Yes</td>\n",
       "      <td>Smartphone</td>\n",
       "      <td>SKU1001</td>\n",
       "      <td>5</td>\n",
       "      <td>Completed</td>\n",
       "      <td>Cash</td>\n",
       "      <td>41.50</td>\n",
       "      <td>20.75</td>\n",
       "      <td>2</td>\n",
       "      <td>2024-05-21</td>\n",
       "      <td>Express</td>\n",
       "      <td>Accessory</td>\n",
       "      <td>35.56</td>\n",
       "    </tr>\n",
       "  </tbody>\n",
       "</table>\n",
       "</div>"
      ],
      "text/plain": [
       "   Customer ID  Age Gender Loyalty Member Product Type      SKU  Rating  \\\n",
       "0         1000   53   Male             No   Smartphone  SKU1004       2   \n",
       "1         1000   53   Male             No       Tablet  SKU1002       3   \n",
       "2         1002   41   Male             No       Laptop  SKU1005       3   \n",
       "3         1002   41   Male            Yes   Smartphone  SKU1004       2   \n",
       "4         1003   75   Male            Yes   Smartphone  SKU1001       5   \n",
       "\n",
       "  Order Status Payment Method  Total Price  Unit Price  Quantity  \\\n",
       "0    Cancelled    Credit Card      5538.33      791.19         7   \n",
       "1    Completed         Paypal       741.09      247.03         3   \n",
       "2    Completed    Credit Card      1855.84      463.96         4   \n",
       "3    Completed           Cash      3164.76      791.19         4   \n",
       "4    Completed           Cash        41.50       20.75         2   \n",
       "\n",
       "  Purchase Date Shipping Type              Add-ons Purchased  Add-on Total  \n",
       "0    2024-03-20      Standard  Accessory,Accessory,Accessory         40.21  \n",
       "1    2024-04-20     Overnight                   Impulse Item         26.09  \n",
       "2    2023-10-17       Express                            NaN          0.00  \n",
       "3    2024-08-09     Overnight      Impulse Item,Impulse Item         60.16  \n",
       "4    2024-05-21       Express                      Accessory         35.56  "
      ]
     },
     "execution_count": 2,
     "metadata": {},
     "output_type": "execute_result"
    }
   ],
   "source": [
    "df = pd.read_csv('Electronic_sales_Sep2023-Sep2024.csv')\n",
    "df.head(5)"
   ]
  },
  {
   "cell_type": "markdown",
   "id": "fc050ab1-eb21-4e13-9212-0d4083bf0656",
   "metadata": {},
   "source": [
    "# Características clave\n",
    "- Customer ID: Identificador único para cada cliente.\n",
    "- Age: Edad del cliente (numérico).\n",
    "- Gender: Género del cliente (Masculino o Femenino).\n",
    "- Loyalty Member: (Sí/No). Los valores cambian con el tiempo, por lo que se debe prestar atención a quién canceló y quién se inscribió.\n",
    "- Product Type: Tipo de producto electrónico vendido (por ejemplo, Smartphone, Laptop, Tablet).\n",
    "- SKU: Código único para cada producto.\n",
    "- Rating: Calificación del producto por parte del cliente (1-5 estrellas). (No debe haber calificaciones nulas).\n",
    "- Order Status: Estado del pedido (Completado, Cancelado).\n",
    "- Payment Method: Método utilizado para el pago (por ejemplo, Efectivo, Tarjeta de Crédito, Paypal).\n",
    "- Total Price: Precio total de la transacción (numérico).\n",
    "- Unit Price: Precio por unidad del producto (numérico).\n",
    "- Quantity: Cantidad de unidades compradas (numérico).\n",
    "- Purchase Date: Fecha de la compra (formato: AAAA-MM-DD).\n",
    "- Shipping Type: Tipo de envío elegido (por ejemplo, Estándar, Nocturno, Exprés).\n",
    "- Add-ons Purchased: Lista de cualquier artículo adicional comprado (por ejemplo, Accesorios, Garantía Extendida).\n",
    "- Add-on Total: Precio total de los artículos adicionales comprados (numérico)."
   ]
  },
  {
   "cell_type": "code",
   "execution_count": 3,
   "id": "03b39952-e72f-4254-be29-49762977fc1b",
   "metadata": {},
   "outputs": [
    {
     "name": "stdout",
     "output_type": "stream",
     "text": [
      "<class 'pandas.core.frame.DataFrame'>\n",
      "RangeIndex: 20000 entries, 0 to 19999\n",
      "Data columns (total 16 columns):\n",
      " #   Column             Non-Null Count  Dtype  \n",
      "---  ------             --------------  -----  \n",
      " 0   Customer ID        20000 non-null  int64  \n",
      " 1   Age                20000 non-null  int64  \n",
      " 2   Gender             19999 non-null  object \n",
      " 3   Loyalty Member     20000 non-null  object \n",
      " 4   Product Type       20000 non-null  object \n",
      " 5   SKU                20000 non-null  object \n",
      " 6   Rating             20000 non-null  int64  \n",
      " 7   Order Status       20000 non-null  object \n",
      " 8   Payment Method     20000 non-null  object \n",
      " 9   Total Price        20000 non-null  float64\n",
      " 10  Unit Price         20000 non-null  float64\n",
      " 11  Quantity           20000 non-null  int64  \n",
      " 12  Purchase Date      20000 non-null  object \n",
      " 13  Shipping Type      20000 non-null  object \n",
      " 14  Add-ons Purchased  15132 non-null  object \n",
      " 15  Add-on Total       20000 non-null  float64\n",
      "dtypes: float64(3), int64(4), object(9)\n",
      "memory usage: 2.4+ MB\n"
     ]
    }
   ],
   "source": [
    "df.info()"
   ]
  },
  {
   "cell_type": "markdown",
   "id": "710a9a5e-6cf0-4742-a510-06050f128dde",
   "metadata": {},
   "source": [
    "## Ajustar tipos de datos\n",
    "Se ajusta el campo _Custumer ID_ ya que no se debe tomar como numerico. Y se cambia el campo _Purchase Date_ a tipo fecha"
   ]
  },
  {
   "cell_type": "code",
   "execution_count": 4,
   "id": "271e771a-20e2-4791-82dc-34e287eaa52a",
   "metadata": {},
   "outputs": [
    {
     "name": "stdout",
     "output_type": "stream",
     "text": [
      "<class 'pandas.core.frame.DataFrame'>\n",
      "RangeIndex: 20000 entries, 0 to 19999\n",
      "Data columns (total 16 columns):\n",
      " #   Column             Non-Null Count  Dtype         \n",
      "---  ------             --------------  -----         \n",
      " 0   Customer ID        20000 non-null  object        \n",
      " 1   Age                20000 non-null  int64         \n",
      " 2   Gender             19999 non-null  object        \n",
      " 3   Loyalty Member     20000 non-null  object        \n",
      " 4   Product Type       20000 non-null  object        \n",
      " 5   SKU                20000 non-null  object        \n",
      " 6   Rating             20000 non-null  int64         \n",
      " 7   Order Status       20000 non-null  object        \n",
      " 8   Payment Method     20000 non-null  object        \n",
      " 9   Total Price        20000 non-null  float64       \n",
      " 10  Unit Price         20000 non-null  float64       \n",
      " 11  Quantity           20000 non-null  int64         \n",
      " 12  Purchase Date      20000 non-null  datetime64[ns]\n",
      " 13  Shipping Type      20000 non-null  object        \n",
      " 14  Add-ons Purchased  15132 non-null  object        \n",
      " 15  Add-on Total       20000 non-null  float64       \n",
      "dtypes: datetime64[ns](1), float64(3), int64(3), object(9)\n",
      "memory usage: 2.4+ MB\n"
     ]
    }
   ],
   "source": [
    "df['Purchase Date'] =  pd.to_datetime(df['Purchase Date'])\n",
    "df['Customer ID'] = df['Customer ID'].astype('str')\n",
    "df.info()"
   ]
  },
  {
   "cell_type": "markdown",
   "id": "29d88421-0fee-4b09-8224-b171b1fd76c1",
   "metadata": {},
   "source": [
    "## Datos faltantes.\n",
    "Hay datos faltantes tanto de _Gender_ como en _Add-ons Purchased_ para este último no haremos ningún tratameinto, ya que dada su descripción se evidencia que los valores nulos en este campo hacen referencia a cuando no se ha comprado un artículo adicional. Por el contrario para _Generder_ se revisa el registro que presenta el valor faltante y se determinará si es posible incluir el dato faltante o se debe eliminar el registro\n"
   ]
  },
  {
   "cell_type": "code",
   "execution_count": 5,
   "id": "a49165dd-158a-4246-88d8-5a6096c9654f",
   "metadata": {},
   "outputs": [
    {
     "name": "stdout",
     "output_type": "stream",
     "text": [
      "      Customer ID  Age Gender Loyalty Member Product Type     SKU  Rating  \\\n",
      "19999       19998   27    NaN            Yes       Laptop  LTP123       4   \n",
      "\n",
      "      Order Status Payment Method  Total Price  Unit Price  Quantity  \\\n",
      "19999    Completed  Bank Transfer       674.32      674.32         1   \n",
      "\n",
      "      Purchase Date Shipping Type Add-ons Purchased  Add-on Total  \n",
      "19999    2024-01-29     Expedited               NaN           0.0  \n",
      "1\n"
     ]
    }
   ],
   "source": [
    "print(df[df['Gender'].isna()])\n",
    "print(len(df[df['Customer ID']=='19998']))"
   ]
  },
  {
   "cell_type": "markdown",
   "id": "b950e84e-332e-48bc-8b70-c11e3e68d33c",
   "metadata": {},
   "source": [
    "Al solo ser un valor se decide elimnarlo ya que no se encontró alguna referencia que permitiera incluir el dato"
   ]
  },
  {
   "cell_type": "code",
   "execution_count": 6,
   "id": "f3598fde-a4eb-4934-9c72-ca400d0fd8e7",
   "metadata": {},
   "outputs": [
    {
     "name": "stdout",
     "output_type": "stream",
     "text": [
      "<class 'pandas.core.frame.DataFrame'>\n",
      "Index: 19999 entries, 0 to 19998\n",
      "Data columns (total 16 columns):\n",
      " #   Column             Non-Null Count  Dtype         \n",
      "---  ------             --------------  -----         \n",
      " 0   Customer ID        19999 non-null  object        \n",
      " 1   Age                19999 non-null  int64         \n",
      " 2   Gender             19999 non-null  object        \n",
      " 3   Loyalty Member     19999 non-null  object        \n",
      " 4   Product Type       19999 non-null  object        \n",
      " 5   SKU                19999 non-null  object        \n",
      " 6   Rating             19999 non-null  int64         \n",
      " 7   Order Status       19999 non-null  object        \n",
      " 8   Payment Method     19999 non-null  object        \n",
      " 9   Total Price        19999 non-null  float64       \n",
      " 10  Unit Price         19999 non-null  float64       \n",
      " 11  Quantity           19999 non-null  int64         \n",
      " 12  Purchase Date      19999 non-null  datetime64[ns]\n",
      " 13  Shipping Type      19999 non-null  object        \n",
      " 14  Add-ons Purchased  15132 non-null  object        \n",
      " 15  Add-on Total       19999 non-null  float64       \n",
      "dtypes: datetime64[ns](1), float64(3), int64(3), object(9)\n",
      "memory usage: 2.6+ MB\n"
     ]
    }
   ],
   "source": [
    "df = df[~df['Gender'].isna()]\n",
    "df.info()"
   ]
  },
  {
   "cell_type": "markdown",
   "id": "767a28b6-9499-4295-beab-1bbe3e6be1df",
   "metadata": {},
   "source": [
    "Se verifica que no se tengan datos duplicados y cuales son los valores únicos de cada columna"
   ]
  },
  {
   "cell_type": "code",
   "execution_count": 7,
   "id": "feaa8b1b-5da7-43ec-b346-b1603df1611a",
   "metadata": {},
   "outputs": [
    {
     "data": {
      "text/plain": [
       "0"
      ]
     },
     "execution_count": 7,
     "metadata": {},
     "output_type": "execute_result"
    }
   ],
   "source": [
    "df.duplicated().sum()"
   ]
  },
  {
   "cell_type": "code",
   "execution_count": 8,
   "id": "2745241d-3fed-4063-a760-d35b1af54c0a",
   "metadata": {},
   "outputs": [
    {
     "name": "stdout",
     "output_type": "stream",
     "text": [
      "Columna:Customer ID\n",
      "Número de valores únicos: 12135\n",
      "Valores únicos: ['1000' '1002' '1003' '1004' '1005' '1006' '1007' '1008' '1011' '1013']\n",
      "--------------------------------------------------\n",
      "Columna:Age\n",
      "Número de valores únicos: 63\n",
      "Valores únicos: [53 41 75 25 24 35 66 72 42 73]\n",
      "--------------------------------------------------\n",
      "Columna:Gender\n",
      "Número de valores únicos: 2\n",
      "Valores únicos: ['Male' 'Female']\n",
      "--------------------------------------------------\n",
      "Columna:Loyalty Member\n",
      "Número de valores únicos: 2\n",
      "Valores únicos: ['No' 'Yes']\n",
      "--------------------------------------------------\n",
      "Columna:Product Type\n",
      "Número de valores únicos: 5\n",
      "Valores únicos: ['Smartphone' 'Tablet' 'Laptop' 'Smartwatch' 'Headphones']\n",
      "--------------------------------------------------\n",
      "Columna:SKU\n",
      "Número de valores únicos: 10\n",
      "Valores únicos: ['SKU1004' 'SKU1002' 'SKU1005' 'SKU1001' 'SKU1003' 'LTP123' 'SMP234'\n",
      " 'TBL345' 'HDP456' 'SWT567']\n",
      "--------------------------------------------------\n",
      "Columna:Rating\n",
      "Número de valores únicos: 5\n",
      "Valores únicos: [2 3 5 1 4]\n",
      "--------------------------------------------------\n",
      "Columna:Order Status\n",
      "Número de valores únicos: 2\n",
      "Valores únicos: ['Cancelled' 'Completed']\n",
      "--------------------------------------------------\n",
      "Columna:Payment Method\n",
      "Número de valores únicos: 6\n",
      "Valores únicos: ['Credit Card' 'Paypal' 'Cash' 'Debit Card' 'Bank Transfer' 'PayPal']\n",
      "--------------------------------------------------\n",
      "Columna:Total Price\n",
      "Número de valores únicos: 104\n",
      "Valores únicos: [5538.33  741.09 1855.84 3164.76   41.5    83.   7603.47 4175.64 2470.3\n",
      " 7120.71]\n",
      "--------------------------------------------------\n",
      "Columna:Unit Price\n",
      "Número de valores únicos: 14\n",
      "Valores únicos: [791.19 247.03 463.96  20.75 844.83 826.04 932.03 861.7  766.8  674.32]\n",
      "--------------------------------------------------\n",
      "Columna:Quantity\n",
      "Número de valores únicos: 10\n",
      "Valores únicos: [ 7  3  4  2  9 10  6  5  1  8]\n",
      "--------------------------------------------------\n",
      "Columna:Purchase Date\n",
      "Número de valores únicos: 366\n",
      "Valores únicos: <DatetimeArray>\n",
      "['2024-03-20 00:00:00', '2024-04-20 00:00:00', '2023-10-17 00:00:00',\n",
      " '2024-08-09 00:00:00', '2024-05-21 00:00:00', '2024-05-26 00:00:00',\n",
      " '2024-01-30 00:00:00', '2024-06-24 00:00:00', '2023-10-03 00:00:00',\n",
      " '2024-01-01 00:00:00']\n",
      "Length: 10, dtype: datetime64[ns]\n",
      "--------------------------------------------------\n",
      "Columna:Shipping Type\n",
      "Número de valores únicos: 5\n",
      "Valores únicos: ['Standard' 'Overnight' 'Express' 'Same Day' 'Expedited']\n",
      "--------------------------------------------------\n",
      "Columna:Add-ons Purchased\n",
      "Número de valores únicos: 76\n",
      "Valores únicos: ['Accessory,Accessory,Accessory' 'Impulse Item' nan\n",
      " 'Impulse Item,Impulse Item' 'Accessory' 'Impulse Item,Accessory'\n",
      " 'Extended Warranty,Extended Warranty'\n",
      " 'Impulse Item,Accessory,Impulse Item' 'Accessory,Extended Warranty'\n",
      " 'Extended Warranty,Impulse Item,Extended Warranty']\n",
      "--------------------------------------------------\n",
      "Columna:Add-on Total\n",
      "Número de valores únicos: 10036\n",
      "Valores únicos: [40.21 26.09  0.   60.16 35.56 65.78 75.33 43.05 90.38 55.48]\n",
      "--------------------------------------------------\n"
     ]
    }
   ],
   "source": [
    "unicos = {col: df[col].unique() for col in df.columns}\n",
    "for col, values in unicos.items():\n",
    "    print(f'Columna:{col}')\n",
    "    print(f'Número de valores únicos: {len(values)}')\n",
    "    print(f'Valores únicos: {values[:10]}')\n",
    "    print('-'*50)"
   ]
  },
  {
   "cell_type": "markdown",
   "id": "2842e35e-ac2f-4eab-8939-7f260d0648a6",
   "metadata": {},
   "source": [
    "# Campos calculados\n",
    "\n",
    "Con el fin de facilitar el análisis se crean algunos campos adicionales."
   ]
  },
  {
   "cell_type": "code",
   "execution_count": 9,
   "id": "bf188fec-96a0-44ff-b437-bda81ee8a93e",
   "metadata": {},
   "outputs": [
    {
     "data": {
      "text/html": [
       "<div>\n",
       "<style scoped>\n",
       "    .dataframe tbody tr th:only-of-type {\n",
       "        vertical-align: middle;\n",
       "    }\n",
       "\n",
       "    .dataframe tbody tr th {\n",
       "        vertical-align: top;\n",
       "    }\n",
       "\n",
       "    .dataframe thead th {\n",
       "        text-align: right;\n",
       "    }\n",
       "</style>\n",
       "<table border=\"1\" class=\"dataframe\">\n",
       "  <thead>\n",
       "    <tr style=\"text-align: right;\">\n",
       "      <th></th>\n",
       "      <th>Customer ID</th>\n",
       "      <th>Age</th>\n",
       "      <th>Gender</th>\n",
       "      <th>Loyalty Member</th>\n",
       "      <th>Product Type</th>\n",
       "      <th>SKU</th>\n",
       "      <th>Rating</th>\n",
       "      <th>Order Status</th>\n",
       "      <th>Payment Method</th>\n",
       "      <th>Total Price</th>\n",
       "      <th>Unit Price</th>\n",
       "      <th>Quantity</th>\n",
       "      <th>Purchase Date</th>\n",
       "      <th>Shipping Type</th>\n",
       "      <th>Add-ons Purchased</th>\n",
       "      <th>Add-on Total</th>\n",
       "      <th>Total_SKU_AddOn</th>\n",
       "      <th>Año</th>\n",
       "      <th>Mes</th>\n",
       "      <th>Trimestre</th>\n",
       "    </tr>\n",
       "  </thead>\n",
       "  <tbody>\n",
       "    <tr>\n",
       "      <th>0</th>\n",
       "      <td>1000</td>\n",
       "      <td>53</td>\n",
       "      <td>Male</td>\n",
       "      <td>No</td>\n",
       "      <td>Smartphone</td>\n",
       "      <td>SKU1004</td>\n",
       "      <td>2</td>\n",
       "      <td>Cancelled</td>\n",
       "      <td>Credit Card</td>\n",
       "      <td>5538.33</td>\n",
       "      <td>791.19</td>\n",
       "      <td>7</td>\n",
       "      <td>2024-03-20</td>\n",
       "      <td>Standard</td>\n",
       "      <td>Accessory,Accessory,Accessory</td>\n",
       "      <td>40.21</td>\n",
       "      <td>5578.54</td>\n",
       "      <td>2024</td>\n",
       "      <td>3</td>\n",
       "      <td>1</td>\n",
       "    </tr>\n",
       "    <tr>\n",
       "      <th>1</th>\n",
       "      <td>1000</td>\n",
       "      <td>53</td>\n",
       "      <td>Male</td>\n",
       "      <td>No</td>\n",
       "      <td>Tablet</td>\n",
       "      <td>SKU1002</td>\n",
       "      <td>3</td>\n",
       "      <td>Completed</td>\n",
       "      <td>Paypal</td>\n",
       "      <td>741.09</td>\n",
       "      <td>247.03</td>\n",
       "      <td>3</td>\n",
       "      <td>2024-04-20</td>\n",
       "      <td>Overnight</td>\n",
       "      <td>Impulse Item</td>\n",
       "      <td>26.09</td>\n",
       "      <td>767.18</td>\n",
       "      <td>2024</td>\n",
       "      <td>4</td>\n",
       "      <td>2</td>\n",
       "    </tr>\n",
       "    <tr>\n",
       "      <th>2</th>\n",
       "      <td>1002</td>\n",
       "      <td>41</td>\n",
       "      <td>Male</td>\n",
       "      <td>No</td>\n",
       "      <td>Laptop</td>\n",
       "      <td>SKU1005</td>\n",
       "      <td>3</td>\n",
       "      <td>Completed</td>\n",
       "      <td>Credit Card</td>\n",
       "      <td>1855.84</td>\n",
       "      <td>463.96</td>\n",
       "      <td>4</td>\n",
       "      <td>2023-10-17</td>\n",
       "      <td>Express</td>\n",
       "      <td>NaN</td>\n",
       "      <td>0.00</td>\n",
       "      <td>1855.84</td>\n",
       "      <td>2023</td>\n",
       "      <td>10</td>\n",
       "      <td>4</td>\n",
       "    </tr>\n",
       "    <tr>\n",
       "      <th>3</th>\n",
       "      <td>1002</td>\n",
       "      <td>41</td>\n",
       "      <td>Male</td>\n",
       "      <td>Yes</td>\n",
       "      <td>Smartphone</td>\n",
       "      <td>SKU1004</td>\n",
       "      <td>2</td>\n",
       "      <td>Completed</td>\n",
       "      <td>Cash</td>\n",
       "      <td>3164.76</td>\n",
       "      <td>791.19</td>\n",
       "      <td>4</td>\n",
       "      <td>2024-08-09</td>\n",
       "      <td>Overnight</td>\n",
       "      <td>Impulse Item,Impulse Item</td>\n",
       "      <td>60.16</td>\n",
       "      <td>3224.92</td>\n",
       "      <td>2024</td>\n",
       "      <td>8</td>\n",
       "      <td>3</td>\n",
       "    </tr>\n",
       "    <tr>\n",
       "      <th>4</th>\n",
       "      <td>1003</td>\n",
       "      <td>75</td>\n",
       "      <td>Male</td>\n",
       "      <td>Yes</td>\n",
       "      <td>Smartphone</td>\n",
       "      <td>SKU1001</td>\n",
       "      <td>5</td>\n",
       "      <td>Completed</td>\n",
       "      <td>Cash</td>\n",
       "      <td>41.50</td>\n",
       "      <td>20.75</td>\n",
       "      <td>2</td>\n",
       "      <td>2024-05-21</td>\n",
       "      <td>Express</td>\n",
       "      <td>Accessory</td>\n",
       "      <td>35.56</td>\n",
       "      <td>77.06</td>\n",
       "      <td>2024</td>\n",
       "      <td>5</td>\n",
       "      <td>2</td>\n",
       "    </tr>\n",
       "  </tbody>\n",
       "</table>\n",
       "</div>"
      ],
      "text/plain": [
       "  Customer ID  Age Gender Loyalty Member Product Type      SKU  Rating  \\\n",
       "0        1000   53   Male             No   Smartphone  SKU1004       2   \n",
       "1        1000   53   Male             No       Tablet  SKU1002       3   \n",
       "2        1002   41   Male             No       Laptop  SKU1005       3   \n",
       "3        1002   41   Male            Yes   Smartphone  SKU1004       2   \n",
       "4        1003   75   Male            Yes   Smartphone  SKU1001       5   \n",
       "\n",
       "  Order Status Payment Method  Total Price  Unit Price  Quantity  \\\n",
       "0    Cancelled    Credit Card      5538.33      791.19         7   \n",
       "1    Completed         Paypal       741.09      247.03         3   \n",
       "2    Completed    Credit Card      1855.84      463.96         4   \n",
       "3    Completed           Cash      3164.76      791.19         4   \n",
       "4    Completed           Cash        41.50       20.75         2   \n",
       "\n",
       "  Purchase Date Shipping Type              Add-ons Purchased  Add-on Total  \\\n",
       "0    2024-03-20      Standard  Accessory,Accessory,Accessory         40.21   \n",
       "1    2024-04-20     Overnight                   Impulse Item         26.09   \n",
       "2    2023-10-17       Express                            NaN          0.00   \n",
       "3    2024-08-09     Overnight      Impulse Item,Impulse Item         60.16   \n",
       "4    2024-05-21       Express                      Accessory         35.56   \n",
       "\n",
       "   Total_SKU_AddOn   Año  Mes  Trimestre  \n",
       "0          5578.54  2024    3          1  \n",
       "1           767.18  2024    4          2  \n",
       "2          1855.84  2023   10          4  \n",
       "3          3224.92  2024    8          3  \n",
       "4            77.06  2024    5          2  "
      ]
     },
     "execution_count": 9,
     "metadata": {},
     "output_type": "execute_result"
    }
   ],
   "source": [
    "df['Total_SKU_AddOn'] = df['Total Price'] + df['Add-on Total']\n",
    "df['Año'] = df['Purchase Date'].dt.year\n",
    "df['Mes'] = df['Purchase Date'].dt.month\n",
    "df['Trimestre'] = df['Purchase Date'].dt.quarter\n",
    "df.head(5)"
   ]
  },
  {
   "cell_type": "code",
   "execution_count": 10,
   "id": "371269fd-6cf8-4639-b5a3-ac81f309ec55",
   "metadata": {},
   "outputs": [
    {
     "name": "stdout",
     "output_type": "stream",
     "text": [
      "Las ventas por año y mes de productos ha sido las siguientes: \n",
      " Año   Mes\n",
      "2023  9       481961.79\n",
      "      10     2318466.35\n",
      "      11     2068434.14\n",
      "      12     1980700.33\n",
      "2024  1      6619498.15\n",
      "      2      5733696.06\n",
      "      3      6324367.84\n",
      "      4      6418253.62\n",
      "      5      6709042.93\n",
      "      6      6668633.59\n",
      "      7      6535129.52\n",
      "      8      6706118.61\n",
      "      9      5037691.12\n",
      "Name: Total Price, dtype: float64\n"
     ]
    }
   ],
   "source": [
    "# Productos vendidos por mes\n",
    "ventas_año_mes = df.groupby(['Año','Mes'])['Total Price'].sum()\n",
    "print(\"Las ventas por año y mes de productos ha sido las siguientes: \\n\" , ventas_año_mes)"
   ]
  },
  {
   "cell_type": "code",
   "execution_count": 11,
   "id": "77e1ac38-0c9e-4a81-bd60-d3b5f9ca1e19",
   "metadata": {},
   "outputs": [
    {
     "name": "stdout",
     "output_type": "stream",
     "text": [
      "Las ventas por año y mes de Accesorios ha sido las siguientes: \n",
      " Año   Mes\n",
      "2023  9        8012.62\n",
      "      10      37837.12\n",
      "      11      34888.81\n",
      "      12      33509.15\n",
      "2024  1      136195.16\n",
      "      2      120148.92\n",
      "      3      124954.26\n",
      "      4      123973.59\n",
      "      5      132018.51\n",
      "      6      126689.59\n",
      "      7      132017.20\n",
      "      8      135133.14\n",
      "      9       99518.89\n",
      "Name: Add-on Total, dtype: float64\n"
     ]
    }
   ],
   "source": [
    " # Accesorios vendidos por mes\n",
    "ventasAdd_año_mes = df.groupby(['Año','Mes'])['Add-on Total'].sum()\n",
    "print(\"Las ventas por año y mes de Accesorios ha sido las siguientes: \\n\" , ventasAdd_año_mes)"
   ]
  },
  {
   "cell_type": "markdown",
   "id": "7392ea6b-ceef-4841-8396-cf23ae27616b",
   "metadata": {},
   "source": [
    "Al analizar los valores de ventas tanto para los productos como para los accesorios, se evidencia que septiembre de 2023 presenta cifras significativamente más bajas en comparación con otros meses. Aunque el conjunto de datos no especifica si los valores asociados a este mes están incompletos, se decide excluirlo del análisis. De esta manera, trabajaremos con un año completo de datos de manera más consistente."
   ]
  },
  {
   "cell_type": "code",
   "execution_count": 12,
   "id": "45b7dcfc-5334-4d1e-ad09-24c0b3bd36f4",
   "metadata": {},
   "outputs": [],
   "source": [
    "sep_2023 = (df['Año'] == 2023) & (df['Mes'] == 9)\n",
    "df= df[~sep_2023]"
   ]
  },
  {
   "cell_type": "code",
   "execution_count": 13,
   "id": "50398ee1-c7ee-44d6-b895-cadb2fab67b7",
   "metadata": {},
   "outputs": [
    {
     "name": "stdout",
     "output_type": "stream",
     "text": [
      "Las ventas por año y mes de productos ha sido las siguientes: \n",
      " Año   Mes\n",
      "2023  10     2318466.35\n",
      "      11     2068434.14\n",
      "      12     1980700.33\n",
      "2024  1      6619498.15\n",
      "      2      5733696.06\n",
      "      3      6324367.84\n",
      "      4      6418253.62\n",
      "      5      6709042.93\n",
      "      6      6668633.59\n",
      "      7      6535129.52\n",
      "      8      6706118.61\n",
      "      9      5037691.12\n",
      "Name: Total Price, dtype: float64\n",
      "Las ventas por año y mes de Accesorios ha sido las siguientes: \n",
      " Año   Mes\n",
      "2023  10      37837.12\n",
      "      11      34888.81\n",
      "      12      33509.15\n",
      "2024  1      136195.16\n",
      "      2      120148.92\n",
      "      3      124954.26\n",
      "      4      123973.59\n",
      "      5      132018.51\n",
      "      6      126689.59\n",
      "      7      132017.20\n",
      "      8      135133.14\n",
      "      9       99518.89\n",
      "Name: Add-on Total, dtype: float64\n"
     ]
    }
   ],
   "source": [
    "# Productos vendidos por mes\n",
    "ventas_año_mes = df.groupby(['Año','Mes'])['Total Price'].sum()\n",
    "print(\"Las ventas por año y mes de productos ha sido las siguientes: \\n\" , ventas_año_mes)\n",
    "\n",
    "# Accesorios vendidos por mes\n",
    "ventasAdd_año_mes = df.groupby(['Año','Mes'])['Add-on Total'].sum()\n",
    "print(\"Las ventas por año y mes de Accesorios ha sido las siguientes: \\n\" , ventasAdd_año_mes)"
   ]
  },
  {
   "cell_type": "markdown",
   "id": "c8cc6208-02c4-44fb-bc9a-71840fa277e9",
   "metadata": {},
   "source": [
    "# Graficos\n",
    "\n",
    "Con el fin de enteder los datos y extraer infomración relevante vamos a graficarlos."
   ]
  },
  {
   "cell_type": "code",
   "execution_count": 14,
   "id": "fae6333c-ea3d-4e6c-86dc-c2f946b29e42",
   "metadata": {},
   "outputs": [],
   "source": [
    "cancelado = df['Order Status'] == 'Cancelled'\n",
    "completado = df['Order Status'] == 'Completed'"
   ]
  },
  {
   "cell_type": "code",
   "execution_count": 15,
   "id": "f7cbc222-56a7-4402-9123-285795935d1f",
   "metadata": {},
   "outputs": [
    {
     "data": {
      "image/png": "[encoded data removed]",
      "text/plain": [
       "<Figure size 640x480 with 1 Axes>"
      ]
     },
     "metadata": {},
     "output_type": "display_data"
    }
   ],
   "source": [
    "\n",
    "df_Orden_Group = df.groupby('Order Status')['Total_SKU_AddOn'].sum()\n",
    "\n",
    "plt.pie(df_Orden_Group,labels= df_Orden_Group.index, autopct='%1.1f%%')\n",
    "plt.axis('equal')\n",
    "plt.show()\n"
   ]
  },
  {
   "cell_type": "code",
   "execution_count": 16,
   "id": "cfae5664-88a4-44d7-9e04-0bb5f80a4e88",
   "metadata": {},
   "outputs": [
    {
     "data": {
      "image/png": "[encoded data removed]",
      "text/plain": [
       "<Figure size 640x480 with 1 Axes>"
      ]
     },
     "metadata": {},
     "output_type": "display_data"
    }
   ],
   "source": [
    "total_completado = df.groupby((df[completado]['Purchase Date'].dt.to_period('M')).dt.to_timestamp())['Total Price'].sum()\n",
    "total_cancelado = df.groupby((df[cancelado]['Purchase Date'].dt.to_period('M')).dt.to_timestamp())['Total Price'].sum()\n",
    "plt.plot(total_completado.index,total_completado, marker = 'o', label = 'Ordenes completadas')\n",
    "plt.plot(total_cancelado.index,total_cancelado, marker = 'o', label = 'Ordenes canceladas')\n",
    "plt.xticks(rotation=45)\n",
    "plt.title('Total mensual')\n",
    "plt.xlabel('Año-Mes')\n",
    "plt.ylabel('Ventas')\n",
    "plt.legend()\n",
    "plt.show()"
   ]
  },
  {
   "cell_type": "markdown",
   "id": "4a2204a0-c7f5-4e33-8b12-b6a0ea2659b1",
   "metadata": {},
   "source": [
    "Podemos observar mediante los graficos anteriores que las ordenes canceladas son una parte significativa del total de ordenes con casi el 33%, además al observar su comportamiento, vemos que es muy similar al de las ordenes completadas, por lo cual sería interesante generar campañas o inciativas, que mitiguen las ordenes canceladas.\n",
    "\n",
    "Dada la oprtunidad de mejorar en ese la cantidad de ordenes canceladas, se continua explorando estos datos."
   ]
  },
  {
   "cell_type": "code",
   "execution_count": 32,
   "id": "56b68af9-965f-4ee4-9eb9-c3399946b1c3",
   "metadata": {},
   "outputs": [
    {
     "data": {
      "image/png": "[encoded data removed]",
      "text/plain": [
       "<Figure size 1000x800 with 3 Axes>"
      ]
     },
     "metadata": {},
     "output_type": "display_data"
    }
   ],
   "source": [
    "gs = gridspec.GridSpec(2,2, height_ratios=[2,1], width_ratios=[1,1])\n",
    "fig = plt.figure(figsize=(10,8))\n",
    "\n",
    "df_cancelado = df[cancelado]\n",
    "\n",
    "ax1 = fig.add_subplot(gs[0, :])\n",
    "\n",
    "cancelado_producto = [df_cancelado[df_cancelado['Product Type'] == producto]['Total Price'] \n",
    "                     for producto in df_cancelado['Product Type'].unique()]\n",
    "\n",
    "ax1.boxplot(cancelado_producto, labels=df_cancelado['Product Type'].unique(), patch_artist=True)\n",
    "ax1.set_title('Distribución de Valor Total  por Tipo de Producto (Cancelados)')\n",
    "ax1.set_xlabel('Tipo de Producto')\n",
    "ax1.set_ylabel('Valor total')\n",
    "\n",
    "df_OrdenCancelado_Group = df_cancelado.groupby('Gender')['Total Price'].sum()\n",
    "\n",
    "ax2 = fig.add_subplot(gs[1,0])\n",
    "ax2.pie(df_OrdenCancelado_Group,labels= df_OrdenCancelado_Group.index, autopct='%1.1f%%')\n",
    "ax2.axis('equal')\n",
    "\n",
    "grupo_pago = df_cancelado.groupby('Payment Method')['Total Price'].sum()\n",
    "ax3 = fig.add_subplot(gs[1,1])\n",
    "ax3.bar(grupo_pago.index,grupo_pago)\n",
    "\n",
    "plt.xticks(rotation=45)\n",
    "\n",
    "plt.show()\n"
   ]
  },
  {
   "cell_type": "markdown",
   "id": "4fb32cbc-3f10-44f9-9b65-05ae02d42785",
   "metadata": {},
   "source": [
    "En cuanto a las categorías con órdenes canceladas, las que presentan el valor medio más alto son _Smartphone_ y _Smartwatch_. Sin embargo, los valores de la primera categoría muestran una mayor dispersión. Respecto al género, se observa una leve inclinación hacia el género masculino en términos del valor asociado a las cancelaciones de órdenes. Por último, el método de pago con mayor valor de cancelaciones es la tarjeta de crédito."
   ]
  }
 ],
 "metadata": {
  "kernelspec": {
   "display_name": "Python 3 (ipykernel)",
   "language": "python",
   "name": "python3"
  },
  "language_info": {
   "codemirror_mode": {
    "name": "ipython",
    "version": 3
   },
   "file_extension": ".py",
   "mimetype": "text/x-python",
   "name": "python",
   "nbconvert_exporter": "python",
   "pygments_lexer": "ipython3",
   "version": "3.12.5"
  }
 },
 "nbformat": 4,
 "nbformat_minor": 5
}
